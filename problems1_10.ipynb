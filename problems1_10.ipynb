{
 "cells": [
  {
   "cell_type": "code",
   "execution_count": 7,
   "metadata": {},
   "outputs": [
    {
     "data": {
      "text/plain": [
       "233168"
      ]
     },
     "execution_count": 7,
     "metadata": {},
     "output_type": "execute_result"
    }
   ],
   "source": [
    "# problem 1\n",
    "import numpy as np\n",
    "\n",
    "def sum_of_multiples(multiples=[3,5],upper_lim=1000):\n",
    "  \n",
    "  # count multiples\n",
    "  first = sum(np.arange(0,upper_lim,multiples[0]))\n",
    "  second = sum(np.arange(0,upper_lim,multiples[1]))\n",
    "\n",
    "  # remove common multiples so don't double count\n",
    "  common_multiples = multiples[0]*multiples[1]\n",
    "  common = sum(np.arange(0,upper_lim,common_multiples))\n",
    "\n",
    "  sum_ = first + second - common\n",
    "  return sum_\n",
    "\n",
    "sum_of_multiples()"
   ]
  },
  {
   "cell_type": "code",
   "execution_count": 10,
   "metadata": {},
   "outputs": [
    {
     "data": {
      "text/plain": [
       "4613732"
      ]
     },
     "execution_count": 10,
     "metadata": {},
     "output_type": "execute_result"
    }
   ],
   "source": [
    "# problem 2\n",
    "\n",
    "def sum_even_fib(upper_lim=4000000):\n",
    "    k0 = 1\n",
    "    k1 = 2\n",
    "    k = 3\n",
    "    total = 2\n",
    "    while (k<=upper_lim):\n",
    "        k0 = k1\n",
    "        k1 = k\n",
    "        k = k0 + k1\n",
    "        if k%2==0:\n",
    "            total+=k\n",
    "    return total\n",
    "\n",
    "sum_even_fib()\n",
    "\n"
   ]
  },
  {
   "cell_type": "code",
   "execution_count": 11,
   "metadata": {},
   "outputs": [
    {
     "data": {
      "text/plain": [
       "6857"
      ]
     },
     "execution_count": 11,
     "metadata": {},
     "output_type": "execute_result"
    }
   ],
   "source": [
    "# problem 3\n",
    "import numpy as np\n",
    "\n",
    "def largest_prime_factor(n):\n",
    "\n",
    "    # Function to check if number is prime\n",
    "    # checks numbers from 2 to sqrt of n to save time\n",
    "    def check_prime(n):\n",
    "        for a in range(2,int(n**0.5)+1):\n",
    "            if n % a == 0:\n",
    "                return False\n",
    "        return True\n",
    "\n",
    "    # check factors and update largest prime found\n",
    "    largest_prime = np.nan\n",
    "    for a in range(2,int(np.sqrt(n))):\n",
    "        if (n % a == 0) & (check_prime(a)):\n",
    "            largest_prime = a\n",
    "    return largest_prime\n",
    "\n",
    "largest_prime_factor(600851475143)"
   ]
  },
  {
   "cell_type": "code",
   "execution_count": 8,
   "metadata": {},
   "outputs": [
    {
     "data": {
      "text/plain": [
       "906609"
      ]
     },
     "execution_count": 8,
     "metadata": {},
     "output_type": "execute_result"
    }
   ],
   "source": [
    "def is_palindrome(n):\n",
    "    return str(n) == str(n)[::-1]\n",
    "\n",
    "def largest_3_digit():\n",
    "    largest = 0\n",
    "    # Look at 3 digit combos\n",
    "    for a in reversed(range(100,999)):\n",
    "        for b in reversed(range(100,999)):\n",
    "            # check if palindrome and if larger than current value\n",
    "            if (is_palindrome(a*b)) & (a*b>largest): largest = a*b\n",
    "    return largest\n",
    "\n",
    "largest_3_digit()"
   ]
  },
  {
   "cell_type": "code",
   "execution_count": null,
   "metadata": {},
   "outputs": [],
   "source": []
  },
  {
   "cell_type": "code",
   "execution_count": 31,
   "metadata": {},
   "outputs": [],
   "source": [
    "# problem 4\n",
    "\n",
    "def is_palindrome(n):\n",
    "    str_num = str(n)\n",
    "    str_len = int(len(str_num)/2)\n",
    "    first_half = str_num[:str_len]\n",
    "    second_half = str_num[str_len:][::-1]\n",
    "    return True if first_half == second_half else False\n",
    "\n",
    "def largest_3digit():\n",
    "    largest = 0\n",
    "    for a in reversed(range(100,999)):\n",
    "        for b in reversed(range(100,999)):\n",
    "            if (is_palindrome(a*b)) & (a*b>largest): largest = a*b\n",
    "    return largest\n",
    "print(largest_3digit())\n",
    "#### BETTER ANSWER ####\n",
    "\n",
    "def is_pal(n):\n",
    "    return str(n) == str(n)[::-1]"
   ]
  },
  {
   "cell_type": "code",
   "execution_count": 4,
   "metadata": {},
   "outputs": [
    {
     "ename": "KeyboardInterrupt",
     "evalue": "",
     "output_type": "error",
     "traceback": [
      "\u001b[0;31m---------------------------------------------------------------------------\u001b[0m",
      "\u001b[0;31mKeyboardInterrupt\u001b[0m                         Traceback (most recent call last)",
      "\u001b[0;32m/var/folders/7h/llgl77790_q08h0b0rq1tgm00000gp/T/ipykernel_87174/1080804416.py\u001b[0m in \u001b[0;36m<module>\u001b[0;34m\u001b[0m\n\u001b[1;32m      8\u001b[0m     \u001b[0mn\u001b[0m\u001b[0;34m+=\u001b[0m\u001b[0;36m1\u001b[0m\u001b[0;34m\u001b[0m\u001b[0;34m\u001b[0m\u001b[0m\n\u001b[1;32m      9\u001b[0m     \u001b[0mans\u001b[0m \u001b[0;34m=\u001b[0m \u001b[0;34m[\u001b[0m\u001b[0;34m]\u001b[0m\u001b[0;34m\u001b[0m\u001b[0;34m\u001b[0m\u001b[0m\n\u001b[0;32m---> 10\u001b[0;31m     \u001b[0;32mfor\u001b[0m \u001b[0ma\u001b[0m \u001b[0;32min\u001b[0m \u001b[0mrange\u001b[0m\u001b[0;34m(\u001b[0m\u001b[0;36m1\u001b[0m\u001b[0;34m,\u001b[0m\u001b[0;36m20\u001b[0m\u001b[0;34m)\u001b[0m\u001b[0;34m:\u001b[0m\u001b[0;34m\u001b[0m\u001b[0;34m\u001b[0m\u001b[0m\n\u001b[0m\u001b[1;32m     11\u001b[0m         \u001b[0mans\u001b[0m\u001b[0;34m.\u001b[0m\u001b[0mappend\u001b[0m\u001b[0;34m(\u001b[0m\u001b[0mdiv_check\u001b[0m\u001b[0;34m(\u001b[0m\u001b[0mn\u001b[0m\u001b[0;34m,\u001b[0m\u001b[0ma\u001b[0m\u001b[0;34m)\u001b[0m\u001b[0;34m)\u001b[0m\u001b[0;34m\u001b[0m\u001b[0;34m\u001b[0m\u001b[0m\n\u001b[1;32m     12\u001b[0m     \u001b[0mstop\u001b[0m \u001b[0;34m=\u001b[0m \u001b[0mall\u001b[0m\u001b[0;34m(\u001b[0m\u001b[0mans\u001b[0m\u001b[0;34m)\u001b[0m\u001b[0;34m\u001b[0m\u001b[0;34m\u001b[0m\u001b[0m\n",
      "\u001b[0;31mKeyboardInterrupt\u001b[0m: "
     ]
    }
   ],
   "source": [
    "##########################\n",
    "# NEED TO DO PROBLEM 5\n",
    "##########################\n",
    "\n",
    "# problem 5\n",
    "def div_check(n,a):\n",
    "    return n%a==0\n",
    "\n",
    "stop = False\n",
    "n = 2520\n",
    "while not stop:\n",
    "    n+=1\n",
    "    ans = []\n",
    "    for a in range(1,20):\n",
    "        ans.append(div_check(n,a))\n",
    "    stop = all(ans)\n",
    "print(n)\n",
    "\n",
    "#### BRUTE FORCE TAKES WAY TOO LONG ####\n",
    "'''\n",
    "Correct answer is to find Least Common Multiple. Many different ways but easiest is to do Prime Factorization.\n",
    "Break all numbers from 1 to 20 down to prime factors, then multiple highest power of each prime number together.\n",
    "This is not an algorithmic approach however.\n",
    "\n",
    "Greatest Common Divisor is an algorithmic approach:\n",
    "\n",
    "'''"
   ]
  },
  {
   "cell_type": "code",
   "execution_count": 10,
   "metadata": {},
   "outputs": [
    {
     "data": {
      "text/plain": [
       "25164150"
      ]
     },
     "execution_count": 10,
     "metadata": {},
     "output_type": "execute_result"
    }
   ],
   "source": [
    "# Problem 6\n",
    "import numpy as np\n",
    "def sum_of_sq_and_sq_of_sum():\n",
    "    one_hund = np.arange(1,101)\n",
    "    sum_of_sq = sum(one_hund**2)\n",
    "    sq_of_sum = sum(one_hund)**2\n",
    "    return sq_of_sum-sum_of_sq\n",
    "sum_of_sq_and_sq_of_sum()"
   ]
  },
  {
   "cell_type": "code",
   "execution_count": 11,
   "metadata": {},
   "outputs": [
    {
     "data": {
      "text/plain": [
       "104743"
      ]
     },
     "execution_count": 11,
     "metadata": {},
     "output_type": "execute_result"
    }
   ],
   "source": [
    "# Problem 7\n",
    "\n",
    "# check if number is prime\n",
    "def check_prime(n):\n",
    "    for a in range(2,int(n**0.5)+1):\n",
    "        if n % a == 0:\n",
    "            return False\n",
    "    return True\n",
    "\n",
    "# Start with initial primes and add to list if prime\n",
    "def get_primes(n):\n",
    "    primes =[2, 3, 5]\n",
    "    num = 6\n",
    "    while len(primes)<n:\n",
    "        if check_prime(num) : primes.append(num)\n",
    "        num+=1\n",
    "    return primes\n",
    "\n",
    "primes = get_primes(10001)\n",
    "primes[-1]"
   ]
  },
  {
   "cell_type": "code",
   "execution_count": 14,
   "metadata": {},
   "outputs": [
    {
     "data": {
      "text/plain": [
       "23514624000"
      ]
     },
     "execution_count": 14,
     "metadata": {},
     "output_type": "execute_result"
    }
   ],
   "source": [
    "# Problem 8\n",
    "\n",
    "num = 7316717653133062491922511967442657474235534919493496983520312774506326239578318016984801869478851843858615607891129494954595017379583319528532088055111254069874715852386305071569329096329522744304355766896648950445244523161731856403098711121722383113622298934233803081353362766142828064444866452387493035890729629049156044077239071381051585930796086670172427121883998797908792274921901699720888093776657273330010533678812202354218097512545405947522435258490771167055601360483958644670632441572215539753697817977846174064955149290862569321978468622482839722413756570560574902614079729686524145351004748216637048440319989000889524345065854122758866688116427171479924442928230863465674813919123162824586178664583591245665294765456828489128831426076900422421902267105562632111110937054421750694165896040807198403850962455444362981230987879927244284909188845801561660979191338754992005240636899125607176060588611646710940507754100225698315520005593572972571636269561882670428252483600823257530420752963450\n",
    "\n",
    "def find_largest_product(num,n):\n",
    "    str_num = str(num)\n",
    "    largest_product = 0\n",
    "    for j in range(0,len(str_num)-n):\n",
    "        product_str = str_num[j:j+n]\n",
    "        product = 1\n",
    "        for char in product_str:\n",
    "            product = product * int(char)\n",
    "        if product > largest_product: largest_product = product\n",
    "    return largest_product\n",
    "\n",
    "find_largest_product(num,13)\n",
    "\n",
    "# ''' Other solution found online\n",
    "# max_prod, adj = 0, 13\n",
    "# for i in range(len(digs)-adj):\n",
    "#     max_prod = max(max_prod, math.prod([int(d) for d in digs[i:i+adj]]))\n",
    "# print(max_prod)\n",
    "# '''"
   ]
  },
  {
   "cell_type": "code",
   "execution_count": 4,
   "metadata": {},
   "outputs": [
    {
     "ename": "TypeError",
     "evalue": "fsolve: there is a mismatch between the input and output shape of the 'func' argument 'equations'.Shape should be (3,) but it is (2,).",
     "output_type": "error",
     "traceback": [
      "\u001b[0;31m---------------------------------------------------------------------------\u001b[0m",
      "\u001b[0;31mTypeError\u001b[0m                                 Traceback (most recent call last)",
      "\u001b[0;32m/var/folders/7h/llgl77790_q08h0b0rq1tgm00000gp/T/ipykernel_60815/3213636029.py\u001b[0m in \u001b[0;36m<module>\u001b[0;34m\u001b[0m\n\u001b[1;32m      8\u001b[0m     \u001b[0;32mreturn\u001b[0m \u001b[0;34m[\u001b[0m\u001b[0mx\u001b[0m\u001b[0;34m^\u001b[0m\u001b[0;36m2\u001b[0m \u001b[0;34m+\u001b[0m \u001b[0my\u001b[0m\u001b[0;34m^\u001b[0m\u001b[0;36m2\u001b[0m \u001b[0;34m-\u001b[0m \u001b[0mz\u001b[0m\u001b[0;34m^\u001b[0m\u001b[0;36m2\u001b[0m\u001b[0;34m,\u001b[0m \u001b[0mx\u001b[0m\u001b[0;34m+\u001b[0m\u001b[0my\u001b[0m\u001b[0;34m+\u001b[0m\u001b[0mz\u001b[0m\u001b[0;34m-\u001b[0m\u001b[0;36m1000\u001b[0m\u001b[0;34m]\u001b[0m\u001b[0;34m\u001b[0m\u001b[0;34m\u001b[0m\u001b[0m\n\u001b[1;32m      9\u001b[0m \u001b[0;34m\u001b[0m\u001b[0m\n\u001b[0;32m---> 10\u001b[0;31m \u001b[0mroot\u001b[0m \u001b[0;34m=\u001b[0m  \u001b[0mfsolve\u001b[0m\u001b[0;34m(\u001b[0m\u001b[0mequations\u001b[0m\u001b[0;34m,\u001b[0m \u001b[0;34m[\u001b[0m\u001b[0;36m1\u001b[0m\u001b[0;34m,\u001b[0m \u001b[0;36m1\u001b[0m\u001b[0;34m,\u001b[0m\u001b[0;36m1\u001b[0m\u001b[0;34m]\u001b[0m\u001b[0;34m)\u001b[0m\u001b[0;34m\u001b[0m\u001b[0;34m\u001b[0m\u001b[0m\n\u001b[0m\u001b[1;32m     11\u001b[0m \u001b[0;34m\u001b[0m\u001b[0m\n\u001b[1;32m     12\u001b[0m \u001b[0mprint\u001b[0m\u001b[0;34m(\u001b[0m\u001b[0mroot\u001b[0m\u001b[0;34m)\u001b[0m\u001b[0;34m\u001b[0m\u001b[0;34m\u001b[0m\u001b[0m\n",
      "\u001b[0;32m/Library/Frameworks/Python.framework/Versions/3.9/lib/python3.9/site-packages/scipy/optimize/minpack.py\u001b[0m in \u001b[0;36mfsolve\u001b[0;34m(func, x0, args, fprime, full_output, col_deriv, xtol, maxfev, band, epsfcn, factor, diag)\u001b[0m\n\u001b[1;32m    158\u001b[0m                'diag': diag}\n\u001b[1;32m    159\u001b[0m \u001b[0;34m\u001b[0m\u001b[0m\n\u001b[0;32m--> 160\u001b[0;31m     \u001b[0mres\u001b[0m \u001b[0;34m=\u001b[0m \u001b[0m_root_hybr\u001b[0m\u001b[0;34m(\u001b[0m\u001b[0mfunc\u001b[0m\u001b[0;34m,\u001b[0m \u001b[0mx0\u001b[0m\u001b[0;34m,\u001b[0m \u001b[0margs\u001b[0m\u001b[0;34m,\u001b[0m \u001b[0mjac\u001b[0m\u001b[0;34m=\u001b[0m\u001b[0mfprime\u001b[0m\u001b[0;34m,\u001b[0m \u001b[0;34m**\u001b[0m\u001b[0moptions\u001b[0m\u001b[0;34m)\u001b[0m\u001b[0;34m\u001b[0m\u001b[0;34m\u001b[0m\u001b[0m\n\u001b[0m\u001b[1;32m    161\u001b[0m     \u001b[0;32mif\u001b[0m \u001b[0mfull_output\u001b[0m\u001b[0;34m:\u001b[0m\u001b[0;34m\u001b[0m\u001b[0;34m\u001b[0m\u001b[0m\n\u001b[1;32m    162\u001b[0m         \u001b[0mx\u001b[0m \u001b[0;34m=\u001b[0m \u001b[0mres\u001b[0m\u001b[0;34m[\u001b[0m\u001b[0;34m'x'\u001b[0m\u001b[0;34m]\u001b[0m\u001b[0;34m\u001b[0m\u001b[0;34m\u001b[0m\u001b[0m\n",
      "\u001b[0;32m/Library/Frameworks/Python.framework/Versions/3.9/lib/python3.9/site-packages/scipy/optimize/minpack.py\u001b[0m in \u001b[0;36m_root_hybr\u001b[0;34m(func, x0, args, jac, col_deriv, xtol, maxfev, band, eps, factor, diag, **unknown_options)\u001b[0m\n\u001b[1;32m    224\u001b[0m     \u001b[0;32mif\u001b[0m \u001b[0;32mnot\u001b[0m \u001b[0misinstance\u001b[0m\u001b[0;34m(\u001b[0m\u001b[0margs\u001b[0m\u001b[0;34m,\u001b[0m \u001b[0mtuple\u001b[0m\u001b[0;34m)\u001b[0m\u001b[0;34m:\u001b[0m\u001b[0;34m\u001b[0m\u001b[0;34m\u001b[0m\u001b[0m\n\u001b[1;32m    225\u001b[0m         \u001b[0margs\u001b[0m \u001b[0;34m=\u001b[0m \u001b[0;34m(\u001b[0m\u001b[0margs\u001b[0m\u001b[0;34m,\u001b[0m\u001b[0;34m)\u001b[0m\u001b[0;34m\u001b[0m\u001b[0;34m\u001b[0m\u001b[0m\n\u001b[0;32m--> 226\u001b[0;31m     \u001b[0mshape\u001b[0m\u001b[0;34m,\u001b[0m \u001b[0mdtype\u001b[0m \u001b[0;34m=\u001b[0m \u001b[0m_check_func\u001b[0m\u001b[0;34m(\u001b[0m\u001b[0;34m'fsolve'\u001b[0m\u001b[0;34m,\u001b[0m \u001b[0;34m'func'\u001b[0m\u001b[0;34m,\u001b[0m \u001b[0mfunc\u001b[0m\u001b[0;34m,\u001b[0m \u001b[0mx0\u001b[0m\u001b[0;34m,\u001b[0m \u001b[0margs\u001b[0m\u001b[0;34m,\u001b[0m \u001b[0mn\u001b[0m\u001b[0;34m,\u001b[0m \u001b[0;34m(\u001b[0m\u001b[0mn\u001b[0m\u001b[0;34m,\u001b[0m\u001b[0;34m)\u001b[0m\u001b[0;34m)\u001b[0m\u001b[0;34m\u001b[0m\u001b[0;34m\u001b[0m\u001b[0m\n\u001b[0m\u001b[1;32m    227\u001b[0m     \u001b[0;32mif\u001b[0m \u001b[0mepsfcn\u001b[0m \u001b[0;32mis\u001b[0m \u001b[0;32mNone\u001b[0m\u001b[0;34m:\u001b[0m\u001b[0;34m\u001b[0m\u001b[0;34m\u001b[0m\u001b[0m\n\u001b[1;32m    228\u001b[0m         \u001b[0mepsfcn\u001b[0m \u001b[0;34m=\u001b[0m \u001b[0mfinfo\u001b[0m\u001b[0;34m(\u001b[0m\u001b[0mdtype\u001b[0m\u001b[0;34m)\u001b[0m\u001b[0;34m.\u001b[0m\u001b[0meps\u001b[0m\u001b[0;34m\u001b[0m\u001b[0;34m\u001b[0m\u001b[0m\n",
      "\u001b[0;32m/Library/Frameworks/Python.framework/Versions/3.9/lib/python3.9/site-packages/scipy/optimize/minpack.py\u001b[0m in \u001b[0;36m_check_func\u001b[0;34m(checker, argname, thefunc, x0, args, numinputs, output_shape)\u001b[0m\n\u001b[1;32m     36\u001b[0m                 \u001b[0mmsg\u001b[0m \u001b[0;34m+=\u001b[0m \u001b[0;34m\".\"\u001b[0m\u001b[0;34m\u001b[0m\u001b[0;34m\u001b[0m\u001b[0m\n\u001b[1;32m     37\u001b[0m             \u001b[0mmsg\u001b[0m \u001b[0;34m+=\u001b[0m \u001b[0;34m'Shape should be %s but it is %s.'\u001b[0m \u001b[0;34m%\u001b[0m \u001b[0;34m(\u001b[0m\u001b[0moutput_shape\u001b[0m\u001b[0;34m,\u001b[0m \u001b[0mshape\u001b[0m\u001b[0;34m(\u001b[0m\u001b[0mres\u001b[0m\u001b[0;34m)\u001b[0m\u001b[0;34m)\u001b[0m\u001b[0;34m\u001b[0m\u001b[0;34m\u001b[0m\u001b[0m\n\u001b[0;32m---> 38\u001b[0;31m             \u001b[0;32mraise\u001b[0m \u001b[0mTypeError\u001b[0m\u001b[0;34m(\u001b[0m\u001b[0mmsg\u001b[0m\u001b[0;34m)\u001b[0m\u001b[0;34m\u001b[0m\u001b[0;34m\u001b[0m\u001b[0m\n\u001b[0m\u001b[1;32m     39\u001b[0m     \u001b[0;32mif\u001b[0m \u001b[0missubdtype\u001b[0m\u001b[0;34m(\u001b[0m\u001b[0mres\u001b[0m\u001b[0;34m.\u001b[0m\u001b[0mdtype\u001b[0m\u001b[0;34m,\u001b[0m \u001b[0minexact\u001b[0m\u001b[0;34m)\u001b[0m\u001b[0;34m:\u001b[0m\u001b[0;34m\u001b[0m\u001b[0;34m\u001b[0m\u001b[0m\n\u001b[1;32m     40\u001b[0m         \u001b[0mdt\u001b[0m \u001b[0;34m=\u001b[0m \u001b[0mres\u001b[0m\u001b[0;34m.\u001b[0m\u001b[0mdtype\u001b[0m\u001b[0;34m\u001b[0m\u001b[0;34m\u001b[0m\u001b[0m\n",
      "\u001b[0;31mTypeError\u001b[0m: fsolve: there is a mismatch between the input and output shape of the 'func' argument 'equations'.Shape should be (3,) but it is (2,)."
     ]
    }
   ],
   "source": [
    "# Problem 9\n",
    "\n",
    "from scipy.optimize import fsolve\n",
    "import math\n",
    "\n",
    "def equations(p):\n",
    "    x, y, z = p\n",
    "    return [x^2 + y^2 - z^2, x+y+z-1000]\n",
    "\n",
    "root =  fsolve(equations, [1, 1,1])\n",
    "\n",
    "print(root)"
   ]
  },
  {
   "cell_type": "code",
   "execution_count": 16,
   "metadata": {},
   "outputs": [
    {
     "data": {
      "text/plain": [
       "142913828922"
      ]
     },
     "execution_count": 16,
     "metadata": {},
     "output_type": "execute_result"
    }
   ],
   "source": [
    "# problem 10\n",
    "def sum_primes(upper_lim=2000000):\n",
    "    arr = range(2,upper_lim)\n",
    "    sum = 0\n",
    "\n",
    "    def check_prime(n):\n",
    "        for a in range(2,int(n**0.5)+1):\n",
    "            if n % a == 0:\n",
    "                return False\n",
    "        return True\n",
    "\n",
    "    for a in arr:\n",
    "        if check_prime(a):\n",
    "            sum+=a\n",
    "\n",
    "    return sum\n",
    "sum_primes()"
   ]
  },
  {
   "cell_type": "code",
   "execution_count": null,
   "metadata": {},
   "outputs": [],
   "source": [
    "#Problem 11\n",
    "\n",
    "def adjacent_product(grid):\n",
    "\n",
    "    product = 1\n",
    "    new_product = 1\n",
    "\n",
    "    def compare(product,new_product):\n",
    "        if product<new_product:\n",
    "            return new_product\n",
    "        return product\n",
    "        \n",
    "    # go down\n",
    "    for a in list(range(17)):\n",
    "        # go across\n",
    "        for j in list(range(17)):\n",
    "            # print(\"DIAG FORWARD: \"+str(j))\n",
    "            # get diagonal forward\n",
    "            for i in list(range(4)):\n",
    "                new_product = new_product * grid.iloc[i+a][i+j]\n",
    "            product = compare(product,new_product)\n",
    "            # print(\"product:\"+str(product))\n",
    "            new_product = 1\n",
    "\n",
    "            # print(\"DIAG BACKWARD: \"+str(j))\n",
    "            # get diagonal backwards\n",
    "            for i in list(range(4)):\n",
    "                new_product = new_product * grid.iloc[a+i][3-i+j]\n",
    "            product = compare(product,new_product)\n",
    "            new_product = 1\n",
    "\n",
    "            # print(\"RIGHT LEFT: \"+str(j))\n",
    "            # get row\n",
    "            for i in list(range(4)):\n",
    "                new_product = new_product * grid.iloc[a][j+i]\n",
    "            product = compare(product,new_product)\n",
    "            new_product = 1\n",
    "\n",
    "            # print(\"GET UPDOWN: \"+str(j))\n",
    "            # get row\n",
    "            for i in list(range(4)):\n",
    "                new_product = new_product * grid.iloc[a+i][j]\n",
    "            product = compare(product,new_product)\n",
    "            new_product = 1\n",
    "\n",
    "    return product\n",
    "\n",
    "adjacent_product(grid)"
   ]
  }
 ],
 "metadata": {
  "kernelspec": {
   "display_name": "Python 3.9.8 64-bit",
   "language": "python",
   "name": "python3"
  },
  "language_info": {
   "codemirror_mode": {
    "name": "ipython",
    "version": 3
   },
   "file_extension": ".py",
   "mimetype": "text/x-python",
   "name": "python",
   "nbconvert_exporter": "python",
   "pygments_lexer": "ipython3",
   "version": "3.9.8"
  },
  "orig_nbformat": 4,
  "vscode": {
   "interpreter": {
    "hash": "397704579725e15f5c7cb49fe5f0341eb7531c82d19f2c29d197e8b64ab5776b"
   }
  }
 },
 "nbformat": 4,
 "nbformat_minor": 2
}
