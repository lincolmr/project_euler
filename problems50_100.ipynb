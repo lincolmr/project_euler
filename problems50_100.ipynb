{
 "cells": [
  {
   "cell_type": "code",
   "execution_count": 11,
   "metadata": {},
   "outputs": [
    {
     "data": {
      "text/plain": [
       "142857"
      ]
     },
     "execution_count": 11,
     "metadata": {},
     "output_type": "execute_result"
    }
   ],
   "source": [
    "# problem 52\n",
    "\n",
    "def permuted_multiples(x):\n",
    "\n",
    "    def check_equal_multiples(x):\n",
    "        x_2 = str(2*x)\n",
    "        x_3 = str(3*x)\n",
    "        x_4 = str(4*x)\n",
    "        x_5 = str(5*x)\n",
    "        x_6 = str(6*x)\n",
    "        list_nums = [''.join(sorted(x_2)),''.join(sorted(x_3)),''.join(sorted(x_4)),''.join(sorted(x_5)),''.join(sorted(x_6))]\n",
    "        return len(set(list_nums))==1\n",
    "    while not check_equal_multiples(x):\n",
    "        x+=1\n",
    "    return x\n",
    "\n",
    "permuted_multiples(x=1)"
   ]
  },
  {
   "cell_type": "code",
   "execution_count": null,
   "metadata": {},
   "outputs": [],
   "source": [
    "# Problem 60\n",
    "\n",
    "# Sieve of Eratosthenes\n",
    "# method to mark numbers that are multiples of each prime starting with 2\n",
    "# use state to track\n",
    "# find combinations that fit the concate test\n",
    "# test sums of combinations\n",
    "\n",
    "\n"
   ]
  }
 ],
 "metadata": {
  "kernelspec": {
   "display_name": "Python 3.9.8 64-bit",
   "language": "python",
   "name": "python3"
  },
  "language_info": {
   "codemirror_mode": {
    "name": "ipython",
    "version": 3
   },
   "file_extension": ".py",
   "mimetype": "text/x-python",
   "name": "python",
   "nbconvert_exporter": "python",
   "pygments_lexer": "ipython3",
   "version": "3.9.8 (v3.9.8:bb3fdcfe95, Nov  5 2021, 16:40:46) \n[Clang 13.0.0 (clang-1300.0.29.3)]"
  },
  "orig_nbformat": 4,
  "vscode": {
   "interpreter": {
    "hash": "397704579725e15f5c7cb49fe5f0341eb7531c82d19f2c29d197e8b64ab5776b"
   }
  }
 },
 "nbformat": 4,
 "nbformat_minor": 2
}
